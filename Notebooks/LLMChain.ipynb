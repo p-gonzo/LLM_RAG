{
 "cells": [
  {
   "cell_type": "code",
   "execution_count": 1,
   "id": "92b2cedf-02d1-476b-aaa5-645b543334a3",
   "metadata": {},
   "outputs": [],
   "source": [
    "# Keep notebook output clean for now\n",
    "import warnings\n",
    "warnings.filterwarnings('ignore')"
   ]
  },
  {
   "cell_type": "code",
   "execution_count": 2,
   "id": "99697014-d7d3-4c04-964c-518aef9b2386",
   "metadata": {},
   "outputs": [],
   "source": [
    "from langchain_openai import ChatOpenAI\n",
    "from langchain import PromptTemplate\n",
    "from langchain.chains import LLMChain, SimpleSequentialChain\n",
    "from langchain.callbacks.streaming_stdout import StreamingStdOutCallbackHandler\n",
    "from langchain_community.document_loaders import TextLoader\n",
    "from langchain.text_splitter import RecursiveCharacterTextSplitter\n",
    "from langchain_community.vectorstores import Chroma\n",
    "from langchain_community.embeddings import GPT4AllEmbeddings\n",
    "\n",
    "from gpt4all import GPT4All\n",
    "from pathlib import Path"
   ]
  },
  {
   "cell_type": "code",
   "execution_count": 3,
   "id": "baad46b9-a2eb-4caa-a04d-14f477386398",
   "metadata": {},
   "outputs": [],
   "source": [
    "llm = ChatOpenAI(base_url=\"http://localhost:1234/v1\", api_key=\"not-needed\", temperature=0.7, max_tokens=1000, streaming=True, callbacks=[StreamingStdOutCallbackHandler()])"
   ]
  },
  {
   "cell_type": "code",
   "execution_count": 4,
   "id": "70f3dc4b-67f2-442a-a597-9db43ead3fa0",
   "metadata": {},
   "outputs": [],
   "source": [
    "template = \"\"\"\n",
    "You are an expert theoretical physicist  \n",
    "Explain the concept of {concept} in a couple of lines\n",
    "\"\"\"\n",
    "\n",
    "prompt = PromptTemplate(\n",
    "    input_variables=[\"concept\"],\n",
    "    template=template,\n",
    ")"
   ]
  },
  {
   "cell_type": "code",
   "execution_count": 5,
   "id": "6b0f6c7e-5edf-4a4b-b671-0416fd7f763f",
   "metadata": {},
   "outputs": [],
   "source": [
    "chain = LLMChain(llm=llm, prompt=prompt, verbose=False) "
   ]
  },
  {
   "cell_type": "code",
   "execution_count": 6,
   "id": "ed7a10a5-5116-4d4e-a0c7-4f8699ecaa52",
   "metadata": {},
   "outputs": [
    {
     "name": "stderr",
     "output_type": "stream",
     "text": [
      "/Users/phil/.local/share/virtualenvs/LLM_RAG-sfbpCevB/lib/python3.9/site-packages/langchain_core/_api/deprecation.py:117: LangChainDeprecationWarning: The function `run` was deprecated in LangChain 0.1.0 and will be removed in 0.2.0. Use invoke instead.\n",
      "  warn_deprecated(\n"
     ]
    },
    {
     "name": "stdout",
     "output_type": "stream",
     "text": [
      "\n",
      "Entropy is a fundamental physical property that measures the degree of disorder or randomness in a system. It is often described as the number of ways in which the energy within a system can be arranged. In thermodynamics, an increase in entropy signifies the natural progression toward a more disordered state, which cannot be reversed without external intervention."
     ]
    }
   ],
   "source": [
    "chain.run(\"entropy\");"
   ]
  },
  {
   "cell_type": "code",
   "execution_count": 7,
   "id": "6bd8d13a-4ae1-4ac6-af06-2b3c3de35222",
   "metadata": {},
   "outputs": [],
   "source": [
    "second_prompt = PromptTemplate(\n",
    "    input_variables=[\"concept\"],\n",
    "    template=\"Turn the concept description of {concept} and explain it to me like I'm five in 250 words\",\n",
    ")\n",
    "chain_two = LLMChain(llm=llm, prompt=second_prompt)"
   ]
  },
  {
   "cell_type": "code",
   "execution_count": 8,
   "id": "4ade4c09-494d-4483-99e7-37415ebb29a6",
   "metadata": {},
   "outputs": [
    {
     "name": "stdout",
     "output_type": "stream",
     "text": [
      "\n",
      "Entropy is a fundamental thermodynamic property that quantifies the degree of disorder or randomness in a system. It's often described as the measure of a system's energy spread, with higher entropy corresponding to more evenly distributed energy and greater disorder. In an isolated system, entropy generally tends to increase over time due to natural processes, which is known as the second law of thermodynamics.Imagine you have a box full of toys, and some of them are spread out all over the room while others are neatly placed back in the box. The state where there are more toys scattered around is called high entropy because there's more chaos or randomness. On the other hand, when most toys are in the box, it has low entropy since things are more organized and predictable.\n",
      "\n",
      "Entropy is like a measure of how messy or disorganized something is, especially when it comes to energy. When energy is spread out evenly among things, like a warm room filled with air, it has high entropy. This is because there's no single spot where most of the energy is concentrated – it’s all mixed up!\n",
      "\n",
      "Now, let's talk about what happens in an isolated system, like a toy box left alone in a room. Over time, toys will eventually spread out and scatter around, increasing the entropy or disorder. This isn't something we decide but rather a natural process. It's like how a pile of leaves left unattended will eventually turn into a pile of decayed leaves on the ground – it gets messier!\n",
      "\n",
      "This is what's known as the second law of thermodynamics, which states that in an isolated system, entropy always increases over time. So even though we might want our toys to stay neatly organized, nature tends to make things more chaotic and messy!"
     ]
    }
   ],
   "source": [
    "overall_chain = SimpleSequentialChain(chains=[chain, chain_two], verbose=False)\n",
    "overall_chain.run(\"entropy\");"
   ]
  },
  {
   "cell_type": "code",
   "execution_count": null,
   "id": "ff49e753-bc6c-4110-bc3d-42e73c2ea76b",
   "metadata": {},
   "outputs": [],
   "source": []
  }
 ],
 "metadata": {
  "kernelspec": {
   "display_name": "Python 3 (ipykernel)",
   "language": "python",
   "name": "python3"
  },
  "language_info": {
   "codemirror_mode": {
    "name": "ipython",
    "version": 3
   },
   "file_extension": ".py",
   "mimetype": "text/x-python",
   "name": "python",
   "nbconvert_exporter": "python",
   "pygments_lexer": "ipython3",
   "version": "3.9.6"
  }
 },
 "nbformat": 4,
 "nbformat_minor": 5
}
