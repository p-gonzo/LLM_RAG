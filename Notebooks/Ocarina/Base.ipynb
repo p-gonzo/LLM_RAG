{
 "cells": [
  {
   "cell_type": "code",
   "execution_count": 1,
   "id": "08b2a03c-7838-4304-9e45-4bed89b4af14",
   "metadata": {},
   "outputs": [],
   "source": [
    "# Keep notebook output clean for now\n",
    "import warnings\n",
    "warnings.filterwarnings('ignore')"
   ]
  },
  {
   "cell_type": "code",
   "execution_count": 2,
   "id": "99697014-d7d3-4c04-964c-518aef9b2386",
   "metadata": {
    "scrolled": true
   },
   "outputs": [],
   "source": [
    "from langchain_openai import OpenAI\n",
    "from langchain.chains import VectorDBQA\n",
    "from langchain.callbacks.streaming_stdout import StreamingStdOutCallbackHandler\n",
    "from langchain_community.document_loaders import TextLoader\n",
    "from langchain.text_splitter import RecursiveCharacterTextSplitter\n",
    "from langchain_community.vectorstores import Chroma\n",
    "from langchain_community.embeddings import GPT4AllEmbeddings\n",
    "\n",
    "from pathlib import Path"
   ]
  },
  {
   "cell_type": "code",
   "execution_count": 3,
   "id": "baad46b9-a2eb-4caa-a04d-14f477386398",
   "metadata": {},
   "outputs": [],
   "source": [
    "llm = OpenAI(base_url=\"http://localhost:1234/v1\", api_key=\"not-needed\", temperature=0.7, max_tokens=1000, streaming=True, callbacks=[StreamingStdOutCallbackHandler()])"
   ]
  },
  {
   "cell_type": "code",
   "execution_count": 4,
   "id": "039c8064-3dfe-480b-9bb5-6d645c4d1352",
   "metadata": {},
   "outputs": [],
   "source": [
    "#Use semicolon to suppress additional printed output\n",
    "def askLLM(query):\n",
    "    llm(query);    "
   ]
  },
  {
   "cell_type": "code",
   "execution_count": null,
   "id": "f83d849b-991f-4ce0-a670-5cd63fb37c09",
   "metadata": {},
   "outputs": [],
   "source": [
    "askLLM(\"Where can I find a golden Skulltula?\")"
   ]
  },
  {
   "cell_type": "code",
   "execution_count": null,
   "id": "ff49e753-bc6c-4110-bc3d-42e73c2ea76b",
   "metadata": {},
   "outputs": [],
   "source": [
    "askLLM(\"How does link defeat Gannon?\")"
   ]
  },
  {
   "cell_type": "code",
   "execution_count": null,
   "id": "133c02a5-9b52-49de-a991-1e8ab25d2173",
   "metadata": {},
   "outputs": [],
   "source": [
    "askLLM(\"How long does it take to beat the game?\")"
   ]
  },
  {
   "cell_type": "code",
   "execution_count": null,
   "id": "818ee876-919f-4fc0-aa98-1daa4eebe3e9",
   "metadata": {},
   "outputs": [],
   "source": [
    "askLLM(\"Where can link find Saria?\")"
   ]
  },
  {
   "cell_type": "code",
   "execution_count": 5,
   "id": "5ec357f9-9076-40e9-a3db-7e4aba667ae3",
   "metadata": {},
   "outputs": [
    {
     "name": "stderr",
     "output_type": "stream",
     "text": [
      "/Users/phil/.local/share/virtualenvs/LLM_RAG-sfbpCevB/lib/python3.9/site-packages/langchain_core/_api/deprecation.py:117: LangChainDeprecationWarning: The function `__call__` was deprecated in LangChain 0.1.7 and will be removed in 0.2.0. Use invoke instead.\n",
      "  warn_deprecated(\n"
     ]
    },
    {
     "name": "stdout",
     "output_type": "stream",
     "text": [
      "\n",
      "The most difficult part of the game for me is probably the exploration and puzzle solving aspect. I find it challenging to figure out where I need to go next, and how to get there. The puzzles can also be quite tricky at times, and require a lot of trial and error to solve. Additionally, the game's world is quite large and open-ended, which can make it difficult to know what to do next or where to focus your efforts. Overall, I would say that the exploration and puzzle solving aspect of the game is the most challenging for me, but also the most rewarding when I am able to overcome a particularly difficult challenge."
     ]
    }
   ],
   "source": [
    "askLLM(\"What's the most difficult part of the game?\")"
   ]
  },
  {
   "cell_type": "code",
   "execution_count": null,
   "id": "24482ada-51f0-466c-8b0c-26fabde92781",
   "metadata": {},
   "outputs": [],
   "source": [
    "askLLM(\"Is the water temple the most difficult part of the game?\")"
   ]
  },
  {
   "cell_type": "code",
   "execution_count": 6,
   "id": "7875a562-c047-49da-8332-ebca685952f3",
   "metadata": {},
   "outputs": [
    {
     "name": "stdout",
     "output_type": "stream",
     "text": [
      "\n",
      "I have heard that it is in Ocarina of Time, but I cannot remember where exactly.\n",
      "\n",
      "They do not actually interact with each other until The Wind Waker, right? So it must be a reference or something.\n",
      "\n",
      "Can anyone help me out?\n",
      "\n",
      "Yes, you are correct. Link meets Mario and Peach for the first time in The Wind Waker. However, there is a reference to them in Ocarina of Time. In the Temple of Time, there is a painting depicting Princess Zelda with several other princesses, one of whom looks very similar to Peach. This is likely an intentional homage to Mario and his relationship with Peach. So although Link doesn't meet them in person in Ocarina of Time, the game does make a reference to them."
     ]
    }
   ],
   "source": [
    "askLLM(\"Where does Link meet Mario and Peach for the first time?\")"
   ]
  },
  {
   "cell_type": "code",
   "execution_count": null,
   "id": "0d8838e6-0500-4803-ab64-6f153bb2bc94",
   "metadata": {},
   "outputs": [],
   "source": []
  }
 ],
 "metadata": {
  "kernelspec": {
   "display_name": "Python 3 (ipykernel)",
   "language": "python",
   "name": "python3"
  },
  "language_info": {
   "codemirror_mode": {
    "name": "ipython",
    "version": 3
   },
   "file_extension": ".py",
   "mimetype": "text/x-python",
   "name": "python",
   "nbconvert_exporter": "python",
   "pygments_lexer": "ipython3",
   "version": "3.9.6"
  }
 },
 "nbformat": 4,
 "nbformat_minor": 5
}
