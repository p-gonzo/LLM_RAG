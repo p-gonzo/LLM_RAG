{
 "cells": [
  {
   "cell_type": "code",
   "execution_count": 1,
   "id": "08b2a03c-7838-4304-9e45-4bed89b4af14",
   "metadata": {},
   "outputs": [],
   "source": [
    "# Keep notebook output clean for now\n",
    "import warnings\n",
    "warnings.filterwarnings('ignore')"
   ]
  },
  {
   "cell_type": "code",
   "execution_count": 2,
   "id": "99697014-d7d3-4c04-964c-518aef9b2386",
   "metadata": {
    "scrolled": true
   },
   "outputs": [],
   "source": [
    "from langchain_openai import ChatOpenAI\n",
    "from langchain.chains import VectorDBQA\n",
    "from langchain.callbacks.streaming_stdout import StreamingStdOutCallbackHandler\n",
    "from langchain_community.document_loaders import TextLoader\n",
    "from langchain.text_splitter import RecursiveCharacterTextSplitter\n",
    "from langchain_community.vectorstores import Chroma\n",
    "from langchain_community.embeddings import GPT4AllEmbeddings\n",
    "\n",
    "from pathlib import Path"
   ]
  },
  {
   "cell_type": "code",
   "execution_count": 3,
   "id": "3ba2e237-dc6c-4eec-a74f-59c089fa969b",
   "metadata": {},
   "outputs": [
    {
     "name": "stdout",
     "output_type": "stream",
     "text": [
      "bert_load_from_file: gguf version     = 2\n",
      "bert_load_from_file: gguf alignment   = 32\n",
      "bert_load_from_file: gguf data offset = 695552\n",
      "bert_load_from_file: model name           = BERT\n",
      "bert_load_from_file: model architecture   = bert\n",
      "bert_load_from_file: model file type      = 1\n",
      "bert_load_from_file: bert tokenizer vocab = 30522\n"
     ]
    }
   ],
   "source": [
    "loader = TextLoader(Path(\"Ocarina.txt\").absolute(), autodetect_encoding=True)\n",
    "data = loader.load()\n",
    "data[0].metadata = {'keywords': 'Ocarina'}\n",
    "text_splitter = RecursiveCharacterTextSplitter(chunk_size=1000, chunk_overlap=200)\n",
    "splits = text_splitter.split_documents(data)\n",
    "embeddings = GPT4AllEmbeddings()\n",
    "vectordb = Chroma.from_documents(splits, embeddings)\n",
    "retriever = vectordb.as_retriever()"
   ]
  },
  {
   "cell_type": "code",
   "execution_count": 4,
   "id": "baad46b9-a2eb-4caa-a04d-14f477386398",
   "metadata": {},
   "outputs": [],
   "source": [
    "llm = ChatOpenAI(base_url=\"http://localhost:1234/v1\", api_key=\"not-needed\", temperature=0.7, max_tokens=1000, streaming=True, callbacks=[StreamingStdOutCallbackHandler()])\n",
    "qa = VectorDBQA.from_chain_type(llm=llm, chain_type=\"stuff\", vectorstore=vectordb)"
   ]
  },
  {
   "cell_type": "code",
   "execution_count": 5,
   "id": "039c8064-3dfe-480b-9bb5-6d645c4d1352",
   "metadata": {},
   "outputs": [],
   "source": [
    "#Use semicolon to suppress additional printed output\n",
    "def askLLM(query):\n",
    "    print(\"Pulled Context:\\n\")\n",
    "    for doc in retriever.get_relevant_documents(query):\n",
    "        print(doc.page_content)\n",
    "    print(\"\\n --- --- ---\\n\")\n",
    "    qa.run(query);    "
   ]
  },
  {
   "cell_type": "code",
   "execution_count": null,
   "id": "f83d849b-991f-4ce0-a670-5cd63fb37c09",
   "metadata": {},
   "outputs": [],
   "source": [
    "askLLM(\"Where can I find a golden Skulltula?\")"
   ]
  },
  {
   "cell_type": "code",
   "execution_count": null,
   "id": "ff49e753-bc6c-4110-bc3d-42e73c2ea76b",
   "metadata": {},
   "outputs": [],
   "source": [
    "askLLM(\"How does link defeat Gannon?\")"
   ]
  },
  {
   "cell_type": "code",
   "execution_count": null,
   "id": "133c02a5-9b52-49de-a991-1e8ab25d2173",
   "metadata": {},
   "outputs": [],
   "source": [
    "askLLM(\"How long does it take to beat the game?\")"
   ]
  },
  {
   "cell_type": "code",
   "execution_count": null,
   "id": "818ee876-919f-4fc0-aa98-1daa4eebe3e9",
   "metadata": {},
   "outputs": [],
   "source": [
    "askLLM(\"Where can link find Saria?\")"
   ]
  },
  {
   "cell_type": "code",
   "execution_count": 6,
   "id": "5ec357f9-9076-40e9-a3db-7e4aba667ae3",
   "metadata": {},
   "outputs": [
    {
     "name": "stdout",
     "output_type": "stream",
     "text": [
      "Pulled Context:\n",
      "\n",
      "This room appears to go on forever. The glassy water reflects everything, and\n",
      "the walls seem non-existent. The door on the other side is locked.... Oh well.\n",
      "Say, what happened to your reflection? Shouldn't it be right under you? You\n",
      "didn't walk over that island in the middle of the room, did you? You did? Good\n",
      "for you. Maybe you left your reflection there.... Yep, sure enough, there's\n",
      "your reflection waiting on the island. Good luck, uh, I have to go over there\n",
      "now, have fun.... This is probably the hardest part of the whole game for me,\n",
      "partly because your reflection doesn't really have much of an obvious weakness.\n",
      "He's basically Link in the hands of the CPU with the AI level turned up really\n",
      "high. He's quick and nimble, and loves to dodge most of your attacks by back-\n",
      "flipping. If you try to use your sword, he'll mimic your every move and your\n",
      "sword will merely bounce off of his. If you try to stab him, he'll hop onto\n",
      "-*- SHADOW TEMPLE -*-\n",
      "\n",
      "NEW ITEM: HOVER BOOTS\n",
      "\n",
      "This place is basically Under the Well times five. Many of the puzzles and\n",
      "enemies are the same, but there are still many new surprises. You'll obviously\n",
      "be using the Lens of Truth for a great deal of it, since most of the puzzles\n",
      "require it. This temple also likes to trick you with chests that merely contain\n",
      "five rupees or some arrows. The keys and such are often in invisible chests.\n",
      "This place may seem like the most sadistic Zelda temple ever, and I agree. How-\n",
      "ever, it certainly isn't the most difficult temple. Some of the temples in the\n",
      "old-school NES games were way harder.\n",
      "-*- OVERVIEW -*-\n",
      "\n",
      "The first Zelda game in 3-D, and considered to be one of the greatest video\n",
      "games ever. At a whopping 256kb, this is one big game. The graphics are ground-\n",
      "breaking, the game play is fun, the story is deep.... It's hard not to like\n",
      "this game. The overall goal of this game is to stop the rise of Ganondorf, the\n",
      "evil King of the Gerudo Thieves. Link, a small boy living in Kokiri Forest,\n",
      "must find Princess Zelda and work together to save Hyrule from the evil thief's\n",
      "plans for world domination. However, in his efforts to stop Ganondorf, some-\n",
      "thing goes wrong, and Ganondorf manages to take over the world and capture\n",
      "Princess Zelda. Helped by a strange and secretive youth named Sheik, Link must\n",
      "awaken the five sages around Hyrule, defeat Ganondorf, and save Princess Zelda.\n",
      "\n",
      "\n",
      "-*- PLAYING THE GAME -*-\n",
      "- ESCAPE FROM THE TOWER -\n",
      "\n",
      "With Ganondorf's last breath, he dissolves the roof and outer walls, but he\n",
      "doesn't stop there. The whole tower will soon collapse, so follow Zelda down\n",
      "the ramps and over the gaps. She'll use her magic to open the iron bars block-\n",
      "ing the way. There will also be a couple delays, such as Zelda being trapped\n",
      "behind a wall of fire while you duke it out with some Stalfos. There's also a\n",
      "ReDead or two on that bridge that you saw above the Water Hall. Anyway, once\n",
      "you reach the exit, you'll be safe...for a few seconds, at least....\n",
      "\n",
      "- GANON -\n",
      "\n",
      " --- --- ---\n",
      "\n"
     ]
    },
    {
     "name": "stderr",
     "output_type": "stream",
     "text": [
      "/Users/phil/.local/share/virtualenvs/LLM_RAG-sfbpCevB/lib/python3.9/site-packages/langchain_core/_api/deprecation.py:117: LangChainDeprecationWarning: The function `run` was deprecated in LangChain 0.1.0 and will be removed in 0.2.0. Use invoke instead.\n",
      "  warn_deprecated(\n"
     ]
    },
    {
     "name": "stdout",
     "output_type": "stream",
     "text": [
      "The most difficult part of the game for many players is fighting against your reflection in the Mirror Temple. Your reflection is controlled by the CPU and moves quickly and nimbly, making it hard to land attacks on him. It can also mimic your movements, so your sword will bounce off its shield. This battle requires patience and precision to defeat."
     ]
    }
   ],
   "source": [
    "askLLM(\"What's the most difficult part of the game?\")"
   ]
  },
  {
   "cell_type": "code",
   "execution_count": null,
   "id": "24482ada-51f0-466c-8b0c-26fabde92781",
   "metadata": {},
   "outputs": [],
   "source": [
    "askLLM(\"Is the water temple the most difficult part of the game?\")"
   ]
  },
  {
   "cell_type": "code",
   "execution_count": null,
   "id": "7875a562-c047-49da-8332-ebca685952f3",
   "metadata": {},
   "outputs": [],
   "source": [
    "askLLM(\"Where does Link meet Mario and Peach for the first time?\")"
   ]
  },
  {
   "cell_type": "code",
   "execution_count": null,
   "id": "bb516223-ddd8-4f6d-a612-42225063c311",
   "metadata": {},
   "outputs": [],
   "source": []
  }
 ],
 "metadata": {
  "kernelspec": {
   "display_name": "Python 3 (ipykernel)",
   "language": "python",
   "name": "python3"
  },
  "language_info": {
   "codemirror_mode": {
    "name": "ipython",
    "version": 3
   },
   "file_extension": ".py",
   "mimetype": "text/x-python",
   "name": "python",
   "nbconvert_exporter": "python",
   "pygments_lexer": "ipython3",
   "version": "3.9.6"
  }
 },
 "nbformat": 4,
 "nbformat_minor": 5
}
