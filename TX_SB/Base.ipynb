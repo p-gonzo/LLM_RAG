{
 "cells": [
  {
   "cell_type": "code",
   "execution_count": 1,
   "id": "08b2a03c-7838-4304-9e45-4bed89b4af14",
   "metadata": {},
   "outputs": [],
   "source": [
    "# Keep notebook output clean for now\n",
    "import warnings\n",
    "warnings.filterwarnings('ignore')"
   ]
  },
  {
   "cell_type": "code",
   "execution_count": 2,
   "id": "99697014-d7d3-4c04-964c-518aef9b2386",
   "metadata": {
    "scrolled": true
   },
   "outputs": [],
   "source": [
    "from langchain_openai import OpenAI\n",
    "from langchain.chains import VectorDBQA\n",
    "from langchain.callbacks.streaming_stdout import StreamingStdOutCallbackHandler\n",
    "from langchain_community.document_loaders import TextLoader\n",
    "from langchain.text_splitter import RecursiveCharacterTextSplitter\n",
    "from langchain_community.vectorstores import Chroma\n",
    "from langchain_community.embeddings import GPT4AllEmbeddings\n",
    "\n",
    "from pathlib import Path"
   ]
  },
  {
   "cell_type": "code",
   "execution_count": 3,
   "id": "baad46b9-a2eb-4caa-a04d-14f477386398",
   "metadata": {},
   "outputs": [],
   "source": [
    "llm = OpenAI(base_url=\"http://localhost:1234/v1\", api_key=\"not-needed\", temperature=0.7, max_tokens=1000, streaming=True, callbacks=[StreamingStdOutCallbackHandler()])"
   ]
  },
  {
   "cell_type": "code",
   "execution_count": 4,
   "id": "039c8064-3dfe-480b-9bb5-6d645c4d1352",
   "metadata": {},
   "outputs": [],
   "source": [
    "#Use semicolon to suppress additional printed output\n",
    "def askLLM(query):\n",
    "    llm(query);    "
   ]
  },
  {
   "cell_type": "code",
   "execution_count": 5,
   "id": "7875a562-c047-49da-8332-ebca685952f3",
   "metadata": {},
   "outputs": [
    {
     "name": "stderr",
     "output_type": "stream",
     "text": [
      "/Users/phil/.local/share/virtualenvs/LLM_RAG-sfbpCevB/lib/python3.9/site-packages/langchain_core/_api/deprecation.py:117: LangChainDeprecationWarning: The function `__call__` was deprecated in LangChain 0.1.7 and will be removed in 0.2.0. Use invoke instead.\n",
      "  warn_deprecated(\n"
     ]
    },
    {
     "name": "stdout",
     "output_type": "stream",
     "text": [
      "\n",
      "Texas Senate Bill 2102, also known as the \"Save Chick-fil-A\" bill, was a proposed piece of legislation that sought to protect businesses from being discriminated against based on their support for certain social or political issues. The bill specifically mentioned religious freedom and the right to express support for traditional values related to marriage and family.\n",
      "\n",
      "The primary target of the bill was the San Antonio City Council's decision in 2019 to deny Chick-fil-A permission to open a new location at the San Antonio International Airport due to the company's donations to organizations that advocate against same-sex marriage. The bill aimed to prevent similar actions from happening in the future and to protect businesses from discrimination based on their political or religious beliefs.\n",
      "\n",
      "The bill faced criticism from some who argued that it would allow for discrimination against LGBTQ individuals and could potentially infringe upon the rights of cities to make decisions regarding who can operate within their jurisdictions. Ultimately, the bill was not passed during the 2019 Texas legislative session."
     ]
    }
   ],
   "source": [
    "askLLM(\"What was in TX SB 2102?\")"
   ]
  },
  {
   "cell_type": "code",
   "execution_count": null,
   "id": "00100a7d-ab06-49be-a285-1ccd15ce1e34",
   "metadata": {},
   "outputs": [],
   "source": []
  }
 ],
 "metadata": {
  "kernelspec": {
   "display_name": "Python 3 (ipykernel)",
   "language": "python",
   "name": "python3"
  },
  "language_info": {
   "codemirror_mode": {
    "name": "ipython",
    "version": 3
   },
   "file_extension": ".py",
   "mimetype": "text/x-python",
   "name": "python",
   "nbconvert_exporter": "python",
   "pygments_lexer": "ipython3",
   "version": "3.9.6"
  }
 },
 "nbformat": 4,
 "nbformat_minor": 5
}
