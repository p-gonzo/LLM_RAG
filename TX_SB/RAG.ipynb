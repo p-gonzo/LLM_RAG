{
 "cells": [
  {
   "cell_type": "code",
   "execution_count": 1,
   "id": "08b2a03c-7838-4304-9e45-4bed89b4af14",
   "metadata": {},
   "outputs": [],
   "source": [
    "# Keep notebook output clean for now\n",
    "import warnings\n",
    "warnings.filterwarnings('ignore')"
   ]
  },
  {
   "cell_type": "code",
   "execution_count": 2,
   "id": "99697014-d7d3-4c04-964c-518aef9b2386",
   "metadata": {
    "scrolled": true
   },
   "outputs": [],
   "source": [
    "from langchain_openai import ChatOpenAI\n",
    "from langchain.chains import RetrievalQA\n",
    "from langchain.callbacks.streaming_stdout import StreamingStdOutCallbackHandler\n",
    "from langchain_community.document_loaders import TextLoader, DirectoryLoader\n",
    "from langchain.text_splitter import RecursiveCharacterTextSplitter\n",
    "from langchain_community.vectorstores import Chroma\n",
    "from langchain.prompts.prompt import PromptTemplate\n",
    "from langchain_community.embeddings import GPT4AllEmbeddings\n",
    "from langchain_community.embeddings.sentence_transformer import SentenceTransformerEmbeddings\n",
    "from langchain.chains.query_constructor.base import AttributeInfo\n",
    "from langchain.retrievers.self_query.base import SelfQueryRetriever\n",
    "\n",
    "from pathlib import Path"
   ]
  },
  {
   "cell_type": "code",
   "execution_count": 3,
   "id": "3ba2e237-dc6c-4eec-a74f-59c089fa969b",
   "metadata": {},
   "outputs": [
    {
     "name": "stdout",
     "output_type": "stream",
     "text": [
      "{'Law Name': 'TX_SB2102', 'Alt Law Name': 'SB2102'}\n",
      "{'Law Name': 'TX_SB2588', 'Alt Law Name': 'SB2588'}\n"
     ]
    }
   ],
   "source": [
    "loader = DirectoryLoader('./sources', glob=\"**/*.txt\", loader_cls=TextLoader)\n",
    "docs = loader.load()\n",
    "\n",
    "for doc in docs:\n",
    "    doc_name = (doc.metadata['source'].split('/')[1].split('.')[0])\n",
    "    doc.metadata['Law Name'] = doc_name \n",
    "    doc.metadata['Alt Law Name'] = doc_name.split('_')[1]\n",
    "    del doc.metadata['source']\n",
    "    print(doc.metadata)"
   ]
  },
  {
   "cell_type": "code",
   "execution_count": 4,
   "id": "69f4862a-f4e8-4ab2-9efe-0774a725c432",
   "metadata": {
    "scrolled": true
   },
   "outputs": [],
   "source": [
    "text_splitter = RecursiveCharacterTextSplitter(chunk_size=500, chunk_overlap=50)\n",
    "splits = text_splitter.split_documents(docs)"
   ]
  },
  {
   "cell_type": "code",
   "execution_count": 5,
   "id": "86533833-d151-4649-830d-86644b95fa23",
   "metadata": {},
   "outputs": [
    {
     "name": "stdout",
     "output_type": "stream",
     "text": [
      "75\n"
     ]
    }
   ],
   "source": [
    "print(len(splits))"
   ]
  },
  {
   "cell_type": "code",
   "execution_count": 6,
   "id": "6b0e5202-e647-41c5-b1be-e426bff0a982",
   "metadata": {},
   "outputs": [
    {
     "name": "stdout",
     "output_type": "stream",
     "text": [
      "page_content='S.B. No. 2102\\n \\n \\n \\n \\t\\nAN ACT\\n \\trelating to the initial registration and inspection period for\\n \\tcertain rental vehicles; authorizing fees.\\n \\t       BE IT ENACTED BY THE LEGISLATURE OF THE STATE OF TEXAS:\\n \\t       SECTION 1.  Section 382.0622(a), Health and Safety Code, is\\n \\tamended to read as follows:\\n \\t       (a)  Clean Air Act fees consist of:\\n \\t             (1)  fees collected by the commission under Sections\\n \\t382.062, 382.0621, 382.202, and 382.302 and as otherwise provided\\n \\tby law;' metadata={'Law Name': 'TX_SB2102', 'Alt Law Name': 'SB2102'}\n"
     ]
    }
   ],
   "source": [
    "print(splits[0])"
   ]
  },
  {
   "cell_type": "code",
   "execution_count": 7,
   "id": "c90e2274-2cd0-4c3f-bfd2-e24e1544e5b4",
   "metadata": {
    "scrolled": true
   },
   "outputs": [],
   "source": [
    "for split in splits:\n",
    "    header = \"\"\n",
    "    for key, val in split.metadata.items():\n",
    "        header += f\"{key}: {val}, \"\n",
    "    header = \"An excpert from, \" + header[:-2] + \"\\n-----\"\n",
    "    split.page_content = header + split.page_content\n",
    "    "
   ]
  },
  {
   "cell_type": "code",
   "execution_count": 8,
   "id": "e69ced66-3f97-47e0-a09a-c467fa68580d",
   "metadata": {},
   "outputs": [
    {
     "name": "stdout",
     "output_type": "stream",
     "text": [
      "page_content='An excpert from, Law Name: TX_SB2102, Alt Law Name: SB2102\\n-----S.B. No. 2102\\n \\n \\n \\n \\t\\nAN ACT\\n \\trelating to the initial registration and inspection period for\\n \\tcertain rental vehicles; authorizing fees.\\n \\t       BE IT ENACTED BY THE LEGISLATURE OF THE STATE OF TEXAS:\\n \\t       SECTION 1.  Section 382.0622(a), Health and Safety Code, is\\n \\tamended to read as follows:\\n \\t       (a)  Clean Air Act fees consist of:\\n \\t             (1)  fees collected by the commission under Sections\\n \\t382.062, 382.0621, 382.202, and 382.302 and as otherwise provided\\n \\tby law;' metadata={'Law Name': 'TX_SB2102', 'Alt Law Name': 'SB2102'}\n"
     ]
    }
   ],
   "source": [
    "print(splits[0])"
   ]
  },
  {
   "cell_type": "code",
   "execution_count": 9,
   "id": "09f75877-fb0c-4993-9a9e-d91a70060e57",
   "metadata": {},
   "outputs": [
    {
     "name": "stdout",
     "output_type": "stream",
     "text": [
      "bert_load_from_file: gguf version     = 2\n",
      "bert_load_from_file: gguf alignment   = 32\n",
      "bert_load_from_file: gguf data offset = 695552\n",
      "bert_load_from_file: model name           = BERT\n",
      "bert_load_from_file: model architecture   = bert\n",
      "bert_load_from_file: model file type      = 1\n",
      "bert_load_from_file: bert tokenizer vocab = 30522\n"
     ]
    }
   ],
   "source": [
    "embeddings = GPT4AllEmbeddings()\n",
    "vectorstore = Chroma.from_documents(splits, embeddings)"
   ]
  },
  {
   "cell_type": "code",
   "execution_count": 10,
   "id": "7c87a7b4-9629-4241-bc33-b9739ef14e2a",
   "metadata": {},
   "outputs": [],
   "source": [
    "retriever=vectorstore.as_retriever(search_kwargs={\"k\": 10})"
   ]
  },
  {
   "cell_type": "code",
   "execution_count": 11,
   "id": "c6857a25-a2e8-465f-8de3-5b9206746c97",
   "metadata": {},
   "outputs": [
    {
     "name": "stdout",
     "output_type": "stream",
     "text": [
      "TX_SB2102\n",
      "TX_SB2102\n",
      "TX_SB2102\n",
      "TX_SB2102\n",
      "TX_SB2102\n",
      "TX_SB2102\n",
      "TX_SB2102\n",
      "TX_SB2102\n",
      "TX_SB2588\n",
      "TX_SB2102\n"
     ]
    }
   ],
   "source": [
    "docs = retriever.get_relevant_documents(\"What is in SB2102?\")\n",
    "for doc in docs:\n",
    "    print(doc.metadata['Law Name'])"
   ]
  },
  {
   "cell_type": "code",
   "execution_count": 12,
   "id": "e2e1f4d1-9bdc-435d-a89d-9bb94788ff84",
   "metadata": {},
   "outputs": [],
   "source": [
    "llm = ChatOpenAI(base_url=\"http://localhost:1234/v1\", api_key=\"not-needed\", temperature=0.7, max_tokens=1000, streaming=True, callbacks=[StreamingStdOutCallbackHandler()])"
   ]
  },
  {
   "cell_type": "code",
   "execution_count": 13,
   "id": "baad46b9-a2eb-4caa-a04d-14f477386398",
   "metadata": {},
   "outputs": [],
   "source": [
    "llm = ChatOpenAI(base_url=\"http://localhost:1234/v1\", api_key=\"not-needed\", temperature=0.7, max_tokens=1000, streaming=True, callbacks=[StreamingStdOutCallbackHandler()])\n",
    "qa = RetrievalQA.from_chain_type(\n",
    "    llm=llm,\n",
    "    chain_type=\"stuff\",\n",
    "    retriever=retriever,\n",
    "    return_source_documents=True,\n",
    " #    chain_type_kwargs={\n",
    " #        'document_prompt': PromptTemplate(\n",
    " #            input_variables=[\"page_content\", \"source\"], \n",
    " #            template=\"Source: {source}\\nContext: {page_content}\"\n",
    " #        ),\n",
    "\t# },\n",
    ")"
   ]
  },
  {
   "cell_type": "code",
   "execution_count": 14,
   "id": "039c8064-3dfe-480b-9bb5-6d645c4d1352",
   "metadata": {},
   "outputs": [],
   "source": [
    "#Use semicolon to suppress additional printed output\n",
    "def askLLM(query):\n",
    "    result = qa({\"query\": query});\n",
    "    print(\"\\n --- SOURCES --- \\n\")\n",
    "    for idx, doc in enumerate((result['source_documents'])):\n",
    "        print(f\"Source {idx+1}:\\n\", doc.page_content, \"\\n\")"
   ]
  },
  {
   "cell_type": "code",
   "execution_count": 15,
   "id": "4e4b17a6-ff10-4a92-a5ae-9e932fd6d53c",
   "metadata": {
    "scrolled": true
   },
   "outputs": [
    {
     "name": "stderr",
     "output_type": "stream",
     "text": [
      "/Users/phil/.local/share/virtualenvs/LLM_RAG-sfbpCevB/lib/python3.9/site-packages/langchain_core/_api/deprecation.py:117: LangChainDeprecationWarning: The function `__call__` was deprecated in LangChain 0.1.0 and will be removed in 0.2.0. Use invoke instead.\n",
      "  warn_deprecated(\n"
     ]
    },
    {
     "name": "stdout",
     "output_type": "stream",
     "text": [
      "Sure thing! So, there's a law called SB2588. It's like a set of rules that the grown-ups made for something called a Municipal Utility District in Fort Bend County. This district is responsible for building and taking care of roads and drainage systems, but they need permission from the cities or towns where the roads are located. The law also says that the district can collect money from people who live in the area to help pay for these projects. And there's another law called SB2102 that talks about cars getting inspected every year or two to make sure they don't pollute too much. The grown-ups have made sure all the rules were followed before this law could be passed. That's it! Let me know if you have any other questions.\n",
      " --- SOURCES --- \n",
      "\n",
      "Source 1:\n",
      " An excpert from, Law Name: TX_SB2588, Alt Law Name: SB2588\n",
      "-----municipality for operation and maintenance macadamized, graveled,\n",
      " \tor paved roads, or improvements, including storm drainage, in aid\n",
      " \tof those roads.\n",
      " \t       Sec. 7974A.0304.  ROAD STANDARDS AND REQUIREMENTS. (a) A\n",
      " \troad project must meet all applicable construction standards,\n",
      " \tzoning and subdivision requirements, and regulations of each\n",
      " \tmunicipality in whose corporate limits or extraterritorial\n",
      " \tjurisdiction the road project is located. \n",
      "\n",
      "Source 2:\n",
      " An excpert from, Law Name: TX_SB2588, Alt Law Name: SB2588\n",
      "-----line of said Elizabeth Powell League, Abstract No. 71, at 4714.27\n",
      " \tfeet pass a corner post in the Northeast right-of-way line of Darst\n",
      " \tRoad, in all 4775.27 feet to a capped 5/8 inch iron rod stamped “\n",
      " \t1535-4035” set at corner post in the Southwest right-ofway line of\n",
      " \tsaid Darst Road marking the North corner of and place of beginning\n",
      " \tfor this tract;\n",
      " \t       THENCE, South 39°26’31” East, 2283.33 feet along said\n",
      " \tSouthwest right-of-way line of said Darst Road to a capped 5/8 inch \n",
      "\n",
      "Source 3:\n",
      " An excpert from, Law Name: TX_SB2588, Alt Law Name: SB2588\n",
      "-----a capped 5/8 inch iron rod stamped “1535-4035” set for angle point;\n",
      " \t       THENCE, Southeasterly following a fence line with the\n",
      " \tfollowing courses and distances:\n",
      " \t       South 35°58’15” East, 40.91 feet to a Railroad Tie for angle\n",
      " \tpoint;\n",
      " \t       South 47°19’54” East, 24.51 feet to a Railroad Tie for angle\n",
      " \tpoint;\n",
      " \t       South 65°08’02” East, 566.63 feet to a corner post found for\n",
      " \tanother re-entrant corner of this tract; \n",
      "\n",
      "Source 4:\n",
      " An excpert from, Law Name: TX_SB2588, Alt Law Name: SB2588\n",
      "-----S.B. No. 2588\n",
      " \n",
      " \n",
      " \n",
      " \t\n",
      "AN ACT\n",
      " \trelating to the creation of the Fort Bend County Municipal Utility\n",
      " \tDistrict No. 264; granting a limited power of eminent domain;\n",
      " \tproviding authority to issue bonds; providing authority to impose\n",
      " \tassessments, fees, and taxes.\n",
      " \t       BE IT ENACTED BY THE LEGISLATURE OF THE STATE OF TEXAS:\n",
      " \t       SECTION 1.  Subtitle F, Title 6, Special District Local Laws\n",
      " \tCode, is amended by adding Chapter 7974A to read as follows: \n",
      "\n",
      "Source 5:\n",
      " An excpert from, Law Name: TX_SB2588, Alt Law Name: SB2588\n",
      "-----to a capped 5/8 inch iron rod stamped “1535-4035” set for angle\n",
      " \tpoint;\n",
      " \t       THENCE, South 61°39'47” West, along a fence line, 440.23 feet\n",
      " \tto a 8 inch corner post found for angle point;\n",
      " \t       THENCE, South 49°28'44” West, along a fence line, 591.17 feet\n",
      " \tto a capped 5/8 inch iron rod stamped “1535-4035” set on the North\n",
      " \tside of a 12 inch corner post for a re-entrant corner of this tract;\n",
      " \t       THENCE, South 32°40' East, along a fence line, 4691.8 feet to \n",
      "\n",
      "Source 6:\n",
      " An excpert from, Law Name: TX_SB2588, Alt Law Name: SB2588\n",
      "-----corner of this tract;\n",
      " \t       South 39°57'59” East, 421.99 feet to a capped 5/8 inch iron\n",
      " \trod stamped “1535-4035” set at a corner post marking the Northerly\n",
      " \tNortheast corner of this tract;\n",
      " \t       THENCE, South 39°45'03” West, leaving said Darst Road, along a\n",
      " \tfence line 800.42 feet to a capped 5/8 inch iron rod stamped “\n",
      " \t1535-4035” set for angle point;\n",
      " \t       THENCE, South 30°53'39” West, along a fence line, 1581.12 feet \n",
      "\n",
      "Source 7:\n",
      " An excpert from, Law Name: TX_SB2102, Alt Law Name: SB2102\n",
      "-----quality state implementation plan to provide for a three-year\n",
      " \temissions inspection period for a vehicle described by Section\n",
      " \t548.1025(a), Transportation Code, as added by this Act.\n",
      " \t       (b)  On the approval of a revision to the state's air quality\n",
      " \tstate implementation plan described by Subsection (a) of this\n",
      " \tsection, the Public Safety Commission shall adopt rules and\n",
      " \tprocesses necessary to implement and administer the revised plan. \n",
      "\n",
      "Source 8:\n",
      " An excpert from, Law Name: TX_SB2588, Alt Law Name: SB2588\n",
      "-----Environmental Quality.\n",
      " \t       (c)  The Texas Commission on Environmental Quality has filed\n",
      " \tits recommendations relating to this Act with the governor, the\n",
      " \tlieutenant governor, and the speaker of the house of\n",
      " \trepresentatives within the required time.\n",
      " \t       (d)  All requirements of the constitution and laws of this\n",
      " \tstate and the rules and procedures of the legislature with respect\n",
      " \tto the notice, introduction, and passage of this Act are fulfilled\n",
      " \tand accomplished. \n",
      "\n",
      "Source 9:\n",
      " An excpert from, Law Name: TX_SB2102, Alt Law Name: SB2102\n",
      "-----inspection report issued under Subchapter C, Chapter 548,\n",
      " \tTransportation Code, in a county that is included in a vehicle\n",
      " \temissions inspection and maintenance program under Subchapter F of\n",
      " \tthat chapter, that the vehicle, unless the vehicle is not covered by\n",
      " \tthe system, be annually or biennially inspected under the vehicle\n",
      " \temissions inspection and maintenance program as required by the\n",
      " \tstate's air quality state implementation plan. The Department of \n",
      "\n",
      "Source 10:\n",
      " An excpert from, Law Name: TX_SB2588, Alt Law Name: SB2588\n",
      "-----specifications of the road project.\n",
      " \t       Sec. 7974A.0305.  COMPLIANCE WITH MUNICIPAL CONSENT\n",
      " \tORDINANCE OR RESOLUTION. The district shall comply with all\n",
      " \tapplicable requirements of any ordinance or resolution that is\n",
      " \tadopted under Section 54.016 or 54.0165, Water Code, and that\n",
      " \tconsents to the creation of the district or to the inclusion of land\n",
      " \tin the district.\n",
      " \t       Sec. 7974A.0306.  DIVISION OF DISTRICT. (a) The board, on \n",
      "\n"
     ]
    }
   ],
   "source": [
    "askLLM(\"Explain SB2588 to me like I'm 5\")"
   ]
  },
  {
   "cell_type": "code",
   "execution_count": 16,
   "id": "c7287807-9907-47b0-baab-4f8cd356d1a2",
   "metadata": {
    "scrolled": true
   },
   "outputs": [
    {
     "name": "stdout",
     "output_type": "stream",
     "text": [
      "Okay, imagine there's a rule that says some cars in Texas need to have their emissions checked every year or every two years. But now, there's a new rule that says some cars can have their emissions checked every three years instead. This rule is part of a bigger plan called SB2102. The plan also says how the state should collect fees for these emissions checks to make sure they get the same amount of money as before. And if the big plan requires it, the state must set up this system. But, even if this new rule applies, cars still need to pass an emissions check if there's a federal or state law that says so. And some cars, like rental cars, have different rules.\n",
      " --- SOURCES --- \n",
      "\n",
      "Source 1:\n",
      " An excpert from, Law Name: TX_SB2102, Alt Law Name: SB2102\n",
      "-----quality state implementation plan to provide for a three-year\n",
      " \temissions inspection period for a vehicle described by Section\n",
      " \t548.1025(a), Transportation Code, as added by this Act.\n",
      " \t       (b)  On the approval of a revision to the state's air quality\n",
      " \tstate implementation plan described by Subsection (a) of this\n",
      " \tsection, the Public Safety Commission shall adopt rules and\n",
      " \tprocesses necessary to implement and administer the revised plan. \n",
      "\n",
      "Source 2:\n",
      " An excpert from, Law Name: TX_SB2102, Alt Law Name: SB2102\n",
      "-----inspection report issued under Subchapter C, Chapter 548,\n",
      " \tTransportation Code, in a county that is included in a vehicle\n",
      " \temissions inspection and maintenance program under Subchapter F of\n",
      " \tthat chapter, that the vehicle, unless the vehicle is not covered by\n",
      " \tthe system, be annually or biennially inspected under the vehicle\n",
      " \temissions inspection and maintenance program as required by the\n",
      " \tstate's air quality state implementation plan. The Department of \n",
      "\n",
      "Source 3:\n",
      " An excpert from, Law Name: TX_SB2102, Alt Law Name: SB2102\n",
      "-----Safety of the State of Texas under Subsection (d) shall provide for\n",
      " \ta three-year emissions inspection period for a vehicle described by\n",
      " \tSection 548.1025(a), Transportation Code; and\n",
      " \t             (2)  the commission shall establish and assess fees for\n",
      " \tthe emissions inspection of a vehicle described by Section\n",
      " \t548.1025(a), Transportation Code, in amounts calculated to provide\n",
      " \tthe same revenue that would be provided if the vehicle was inspected\n",
      " \tannually or biennially. \n",
      "\n",
      "Source 4:\n",
      " An excpert from, Law Name: TX_SB2102, Alt Law Name: SB2102\n",
      "-----Public Safety shall implement such a system when it is required by\n",
      " \tany provision of federal or state law, including any provision of\n",
      " \tthe state's air quality state implementation plan.\n",
      " \t       (d-2)  If the state's air quality state implementation plan\n",
      " \tprovides for a three-year emissions inspection period for a vehicle\n",
      " \tdescribed by Section 548.1025(a), Transportation Code:\n",
      " \t             (1)  the system implemented by the Department of Public \n",
      "\n",
      "Source 5:\n",
      " An excpert from, Law Name: TX_SB2102, Alt Law Name: SB2102\n",
      "-----as described by Section 152.061(b), Tax Code.\n",
      " \t       (b)  This section does not affect a requirement that a motor\n",
      " \tvehicle emissions inspection be conducted in a county covered by an\n",
      " \tinspection and maintenance program approved by the United States\n",
      " \tEnvironmental Protection Agency under Section 548.301 and the Clean\n",
      " \tAir Act (42 U.S.C. Section 7401 et seq.).\n",
      " \t       SECTION 5.  Section 548.501(a), Transportation Code, is\n",
      " \tamended to read as follows: \n",
      "\n",
      "Source 6:\n",
      " An excpert from, Law Name: TX_SB2102, Alt Law Name: SB2102\n",
      "-----light truck:\n",
      " \t             (1)  that is sold in this state or purchased by a\n",
      " \tcommercial fleet buyer described by Section 501.0234(b)(4) for use\n",
      " \tin this state;\n",
      " \t             (2)  that has not been previously registered in this or\n",
      " \tanother state;\n",
      " \t             (3)  that on the date of sale is of the current or\n",
      " \tpreceding model year; and \n",
      " \t             (4)  for which a rental certificate has been furnished\n",
      " \tas described by Section 152.061(b), Tax Code. \n",
      "\n",
      "Source 7:\n",
      " An excpert from, Law Name: TX_SB2588, Alt Law Name: SB2588\n",
      "-----legislative interpretation of the requirements of Section 17(c),\n",
      " \tArticle I, Texas Constitution.\n",
      " \t       SECTION 5.  This Act takes effect immediately if it receives\n",
      " \ta vote of two-thirds of all the members elected to each house, as\n",
      " \tprovided by Section 39, Article III, Texas Constitution.  If this\n",
      " \tAct does not receive the vote necessary for immediate effect, this\n",
      " \tAct takes effect September 1, 2023.\n",
      " \t\n",
      " \t\n",
      " \n",
      " \n",
      " \n",
      " \t______________________________\t______________________________ \n",
      "\n",
      "Source 8:\n",
      " An excpert from, Law Name: TX_SB2102, Alt Law Name: SB2102\n",
      "-----annually or biennially.\n",
      " \t       SECTION 3.  Subchapter A, Chapter 502, Transportation Code,\n",
      " \tis amended by adding Section 502.0026 to read as follows:\n",
      " \t       Sec. 502.0026.  EXTENDED REGISTRATION OF CERTAIN RENTAL\n",
      " \tVEHICLES. (a)  Notwithstanding Section 502.044, the initial\n",
      " \tregistration period is three years for a passenger car or light\n",
      " \ttruck:\n",
      " \t             (1)  that is sold in this state or purchased by a\n",
      " \tcommercial fleet buyer described by Section 501.0234(b)(4) for use \n",
      "\n",
      "Source 9:\n",
      " An excpert from, Law Name: TX_SB2588, Alt Law Name: SB2588\n",
      "-----municipality for operation and maintenance macadamized, graveled,\n",
      " \tor paved roads, or improvements, including storm drainage, in aid\n",
      " \tof those roads.\n",
      " \t       Sec. 7974A.0304.  ROAD STANDARDS AND REQUIREMENTS. (a) A\n",
      " \troad project must meet all applicable construction standards,\n",
      " \tzoning and subdivision requirements, and regulations of each\n",
      " \tmunicipality in whose corporate limits or extraterritorial\n",
      " \tjurisdiction the road project is located. \n",
      "\n",
      "Source 10:\n",
      " An excpert from, Law Name: TX_SB2102, Alt Law Name: SB2102\n",
      "-----Section 185 of the federal Clean Air Act (42 U.S.C. Section 7511d).\n",
      " \t       SECTION 2.  Section 382.202, Health and Safety Code, is\n",
      " \tamended by amending Subsection (d) and adding Subsection (d-2) to\n",
      " \tread as follows:\n",
      " \t       (d)  Except as provided by Subsection (d-2), on [On] adoption\n",
      " \tof a resolution by the commission and after proper notice, the\n",
      " \tDepartment of Public Safety of the State of Texas shall implement a\n",
      " \tsystem that requires, as a condition of obtaining a passing vehicle \n",
      "\n"
     ]
    }
   ],
   "source": [
    "askLLM(\"Explain SB2102 to me like I'm 5\")"
   ]
  },
  {
   "cell_type": "code",
   "execution_count": 17,
   "id": "9f9850b9-89be-46bb-93c0-76217d0f37c6",
   "metadata": {
    "scrolled": true
   },
   "outputs": [
    {
     "name": "stdout",
     "output_type": "stream",
     "text": [
      "SB2102 includes several fees related to vehicle inspections and registrations. Here is a summary:\n",
      "- Fees collected for inspections of vehicles other than mopeds under Sections 548.501 and 548.503, Transportation Code, amounting to $2 per inspection.\n",
      "- A fee of $6 for an inspection of a vehicle under Section 548.5035, Transportation Code.\n",
      "- Fees required under the law that are not specifically mentioned in the provided context.\n",
      "Additionally, SB2102 establishes a three-year initial inspection period for certain rental vehicles and sets fees for their inspections. The amount of these fees is to be determined by rule.\n",
      " --- SOURCES --- \n",
      "\n",
      "Source 1:\n",
      " An excpert from, Law Name: TX_SB2102, Alt Law Name: SB2102\n",
      "-----by law;\n",
      " \t             (2)  $2 from the portion of each fee collected for\n",
      " \tinspections of vehicles other than mopeds and remitted to the state\n",
      " \tunder Sections 548.501 and 548.503, Transportation Code;\n",
      " \t             (3)  $6 from the portion of each fee collected for an\n",
      " \tinspection of a vehicle and remitted to the state under Section\n",
      " \t548.5035, Transportation Code; and\n",
      " \t             (4) [(3)]  fees collected that are required under \n",
      "\n",
      "Source 2:\n",
      " An excpert from, Law Name: TX_SB2102, Alt Law Name: SB2102\n",
      "-----S.B. No. 2102\n",
      " \n",
      " \n",
      " \n",
      " \t\n",
      "AN ACT\n",
      " \trelating to the initial registration and inspection period for\n",
      " \tcertain rental vehicles; authorizing fees.\n",
      " \t       BE IT ENACTED BY THE LEGISLATURE OF THE STATE OF TEXAS:\n",
      " \t       SECTION 1.  Section 382.0622(a), Health and Safety Code, is\n",
      " \tamended to read as follows:\n",
      " \t       (a)  Clean Air Act fees consist of:\n",
      " \t             (1)  fees collected by the commission under Sections\n",
      " \t382.062, 382.0621, 382.202, and 382.302 and as otherwise provided\n",
      " \tby law; \n",
      "\n",
      "Source 3:\n",
      " An excpert from, Law Name: TX_SB2102, Alt Law Name: SB2102\n",
      "-----light truck under Section 548.1025 shall be set by the department by\n",
      " \trule on or before September 1 of each year.\n",
      " \t       (b)  A fee set by the department under this section must:\n",
      " \t             (1)  be based on the costs of providing inspections and\n",
      " \tadministering the program; and\n",
      " \t             (2)  be calculated to ensure that the state receives at\n",
      " \tleast the same amount of revenue from the fee over a three-year\n",
      " \tperiod that the state would have received if the vehicle was subject \n",
      "\n",
      "Source 4:\n",
      " An excpert from, Law Name: TX_SB2102, Alt Law Name: SB2102\n",
      "-----in this state;\n",
      " \t             (2)  that has not been previously registered in this or\n",
      " \tanother state;\n",
      " \t             (3)  that on the date of sale is of the current or\n",
      " \tpreceding model year; and \n",
      " \t             (4)  for which a rental certificate has been furnished\n",
      " \tas described by Section 152.061(b), Tax Code.\n",
      " \t       (b)  Payment for all applicable fees, including any optional\n",
      " \tfee imposed under Subchapter H and other registration fees and the \n",
      "\n",
      "Source 5:\n",
      " An excpert from, Law Name: TX_SB2102, Alt Law Name: SB2102\n",
      "-----Safety of the State of Texas under Subsection (d) shall provide for\n",
      " \ta three-year emissions inspection period for a vehicle described by\n",
      " \tSection 548.1025(a), Transportation Code; and\n",
      " \t             (2)  the commission shall establish and assess fees for\n",
      " \tthe emissions inspection of a vehicle described by Section\n",
      " \t548.1025(a), Transportation Code, in amounts calculated to provide\n",
      " \tthe same revenue that would be provided if the vehicle was inspected\n",
      " \tannually or biennially. \n",
      "\n",
      "Source 6:\n",
      " An excpert from, Law Name: TX_SB2102, Alt Law Name: SB2102\n",
      "-----amended to read as follows:\n",
      " \t       (a)  Except as provided by Sections 548.503, 548.5035, and\n",
      " \t548.504, the fee for inspection of a motor vehicle other than a\n",
      " \tmoped is $12.50. The fee for inspection of a moped is $5.75.\n",
      " \t       SECTION 6.  Subchapter H, Chapter 548, Transportation Code,\n",
      " \tis amended by adding Section 548.5035 to read as follows:\n",
      " \t       Sec. 548.5035.  INITIAL THREE-YEAR INSPECTION OF CERTAIN\n",
      " \tRENTAL VEHICLES.  (a)  The fee for inspection of a passenger car or \n",
      "\n",
      "Source 7:\n",
      " An excpert from, Law Name: TX_SB2102, Alt Law Name: SB2102\n",
      "-----light truck:\n",
      " \t             (1)  that is sold in this state or purchased by a\n",
      " \tcommercial fleet buyer described by Section 501.0234(b)(4) for use\n",
      " \tin this state;\n",
      " \t             (2)  that has not been previously registered in this or\n",
      " \tanother state;\n",
      " \t             (3)  that on the date of sale is of the current or\n",
      " \tpreceding model year; and \n",
      " \t             (4)  for which a rental certificate has been furnished\n",
      " \tas described by Section 152.061(b), Tax Code. \n",
      "\n",
      "Source 8:\n",
      " An excpert from, Law Name: TX_SB2102, Alt Law Name: SB2102\n",
      "-----to Section 548.102.\n",
      " \t       (c)  The department by rule shall establish the amount of the\n",
      " \tfee for an inspection under this section that shall be remitted to\n",
      " \tthe state under Section 548.509.\n",
      " \t       SECTION 7.  (a)  As soon as practicable in the Texas\n",
      " \tCommission on Environmental Quality's ordinary course of business,\n",
      " \tthe commission shall submit for the approval of the United States\n",
      " \tEnvironmental Protection Agency a revision of the state's air \n",
      "\n",
      "Source 9:\n",
      " An excpert from, Law Name: TX_SB2102, Alt Law Name: SB2102\n",
      "-----fee required by Section 548.5035, for the entire registration\n",
      " \tperiod is due at the time of registration.\n",
      " \t       SECTION 4.  Subchapter C, Chapter 548, Transportation Code,\n",
      " \tis amended by adding Section 548.1025 to read as follows:\n",
      " \t       Sec. 548.1025.  THREE-YEAR INITIAL INSPECTION PERIOD FOR\n",
      " \tCERTAIN RENTAL VEHICLES.  (a)  Notwithstanding any other law, the\n",
      " \tinitial inspection period is three years for a passenger car or\n",
      " \tlight truck: \n",
      "\n",
      "Source 10:\n",
      " An excpert from, Law Name: TX_SB2102, Alt Law Name: SB2102\n",
      "-----inspection report issued under Subchapter C, Chapter 548,\n",
      " \tTransportation Code, in a county that is included in a vehicle\n",
      " \temissions inspection and maintenance program under Subchapter F of\n",
      " \tthat chapter, that the vehicle, unless the vehicle is not covered by\n",
      " \tthe system, be annually or biennially inspected under the vehicle\n",
      " \temissions inspection and maintenance program as required by the\n",
      " \tstate's air quality state implementation plan. The Department of \n",
      "\n"
     ]
    }
   ],
   "source": [
    "askLLM(\"What fees are included as part of SB2102?\")"
   ]
  }
 ],
 "metadata": {
  "kernelspec": {
   "display_name": "Python 3 (ipykernel)",
   "language": "python",
   "name": "python3"
  },
  "language_info": {
   "codemirror_mode": {
    "name": "ipython",
    "version": 3
   },
   "file_extension": ".py",
   "mimetype": "text/x-python",
   "name": "python",
   "nbconvert_exporter": "python",
   "pygments_lexer": "ipython3",
   "version": "3.9.6"
  }
 },
 "nbformat": 4,
 "nbformat_minor": 5
}
