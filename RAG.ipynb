{
 "cells": [
  {
   "cell_type": "code",
   "execution_count": 1,
   "id": "08b2a03c-7838-4304-9e45-4bed89b4af14",
   "metadata": {},
   "outputs": [],
   "source": [
    "# Keep notebook output clean for now\n",
    "import warnings\n",
    "warnings.filterwarnings('ignore')"
   ]
  },
  {
   "cell_type": "code",
   "execution_count": 2,
   "id": "99697014-d7d3-4c04-964c-518aef9b2386",
   "metadata": {
    "scrolled": true
   },
   "outputs": [],
   "source": [
    "from langchain_openai import ChatOpenAI\n",
    "from langchain.chains import VectorDBQA\n",
    "from langchain.callbacks.streaming_stdout import StreamingStdOutCallbackHandler\n",
    "from langchain_community.document_loaders import TextLoader\n",
    "from langchain.text_splitter import RecursiveCharacterTextSplitter\n",
    "from langchain_community.vectorstores import Chroma\n",
    "from langchain_community.embeddings import GPT4AllEmbeddings\n",
    "\n",
    "from pathlib import Path"
   ]
  },
  {
   "cell_type": "code",
   "execution_count": 3,
   "id": "3ba2e237-dc6c-4eec-a74f-59c089fa969b",
   "metadata": {},
   "outputs": [
    {
     "name": "stdout",
     "output_type": "stream",
     "text": [
      "bert_load_from_file: gguf version     = 2\n",
      "bert_load_from_file: gguf alignment   = 32\n",
      "bert_load_from_file: gguf data offset = 695552\n",
      "bert_load_from_file: model name           = BERT\n",
      "bert_load_from_file: model architecture   = bert\n",
      "bert_load_from_file: model file type      = 1\n",
      "bert_load_from_file: bert tokenizer vocab = 30522\n"
     ]
    }
   ],
   "source": [
    "loader = TextLoader(Path(\"Ocarina.txt\").absolute(), autodetect_encoding=True)\n",
    "data = loader.load()\n",
    "data[0].metadata = {'keywords': 'Ocarina'}\n",
    "text_splitter = RecursiveCharacterTextSplitter(chunk_size=1000, chunk_overlap=200)\n",
    "splits = text_splitter.split_documents(data)\n",
    "embeddings = GPT4AllEmbeddings()\n",
    "vectordb = Chroma.from_documents(splits, embeddings)"
   ]
  },
  {
   "cell_type": "code",
   "execution_count": 4,
   "id": "baad46b9-a2eb-4caa-a04d-14f477386398",
   "metadata": {},
   "outputs": [],
   "source": [
    "llm = ChatOpenAI(base_url=\"http://localhost:1234/v1\", api_key=\"not-needed\", temperature=0.7, max_tokens=1000, streaming=True, callbacks=[StreamingStdOutCallbackHandler()])\n",
    "qa = VectorDBQA.from_chain_type(llm=llm, chain_type=\"stuff\", vectorstore=vectordb)"
   ]
  },
  {
   "cell_type": "code",
   "execution_count": 5,
   "id": "039c8064-3dfe-480b-9bb5-6d645c4d1352",
   "metadata": {},
   "outputs": [],
   "source": [
    "#Use semicolon to suppress additional printed output\n",
    "def askLLM(query):\n",
    "    qa.run(query);    "
   ]
  },
  {
   "cell_type": "code",
   "execution_count": 6,
   "id": "f83d849b-991f-4ce0-a670-5cd63fb37c09",
   "metadata": {},
   "outputs": [
    {
     "name": "stderr",
     "output_type": "stream",
     "text": [
      "/Users/phil/.local/share/virtualenvs/RagChain-Spatmi78/lib/python3.9/site-packages/langchain_core/_api/deprecation.py:117: LangChainDeprecationWarning: The function `run` was deprecated in LangChain 0.1.0 and will be removed in 0.2.0. Use invoke instead.\n",
      "  warn_deprecated(\n"
     ]
    },
    {
     "name": "stdout",
     "output_type": "stream",
     "text": [
      "To find a Golden Skulltula, you can go to the West Courtyard of Hyrule Castle. Use the hookshot on the small chest on the ledge nearby and retrieve the token inside. Then, head over to the well in the central room and hop in. Follow the tunnel until you reach the chest at the end, which contains a small key. Climb out of the well and exit the West Courtyard to return to the central room. Alternatively, you can go to an underground grotto under a tree near the Hyrule Castle Moat by playing the Song of Storms, then hop down. Bomb the walls until you find the golden skulltula. Kill it but don't take the token yet. Instead, stand right in front of the circle of light leading back up to the surface, lock onto the token with Z-Targeting, throw the boomerang at it, and immediately do a back flip into the light. The boomernang should return right as you return to the surface, allowing you to keep the token while leaving the skulltula down there. You can repeat this process to get multiple golden tokens. However, be aware that this method is considered cheating by some players."
     ]
    }
   ],
   "source": [
    "askLLM(\"Where can I find a golden Skulltula?\")"
   ]
  },
  {
   "cell_type": "code",
   "execution_count": 7,
   "id": "ff49e753-bc6c-4110-bc3d-42e73c2ea76b",
   "metadata": {},
   "outputs": [
    {
     "name": "stdout",
     "output_type": "stream",
     "text": [
      "Link defeats Ganon by first shooting his face with a Light Arrow to blind him, then attacking and damaging his tail on his back with the Megaton Hammer or Biggoron Sword. Once Princess Zelda weakens Ganon with her beam of light, Link inflicts the final blow to defeat him."
     ]
    }
   ],
   "source": [
    "askLLM(\"How does link defeat Gannon?\")"
   ]
  },
  {
   "cell_type": "code",
   "execution_count": 8,
   "id": "133c02a5-9b52-49de-a991-1e8ab25d2173",
   "metadata": {},
   "outputs": [
    {
     "name": "stdout",
     "output_type": "stream",
     "text": [
      "The time it takes to beat The Legend of Zelda: Ocarina of Time depends on various factors such as skill level, exploration, and side quests. Completing the main storyline can take around 15-20 hours, but with all collectibles and side quests, it can take up to 30-40 hours."
     ]
    }
   ],
   "source": [
    "askLLM(\"How long does it take to beat the game?\")"
   ]
  },
  {
   "cell_type": "code",
   "execution_count": 9,
   "id": "818ee876-919f-4fc0-aa98-1daa4eebe3e9",
   "metadata": {},
   "outputs": [
    {
     "name": "stdout",
     "output_type": "stream",
     "text": [
      "Saria is a character in The Legend of Zelda: Ocarina of Time. She is a friend of Link's and often helps him throughout his journey. In the given context, it mentions that she is the only one who doesn't treat Link differently despite his lack of a fairy and Mido's bullying. However, the text does not specify where exactly in the game Link can find Saria.\n",
      "\n",
      "To answer the user's question, I would have to consult additional sources or information about the game to determine where Link can find Saria. Based on my knowledge of the game from playing it and general familiarity with the story, I know that Saria is initially found in the Kokiri Forest, but she later moves to the Temple of Time during Ganondorf's invasion. However, without specific context or clarification from the user, I cannot definitively answer where Link can find Saria in the game based on the provided text alone.\n",
      "\n",
      "Therefore, my response would be: \"I'm not sure where you can find Saria in The Legend of Zelda: Ocarina of Time based on the given context alone. However, she is initially found in the Kokiri Forest and later moves to the Temple of Time during Ganondorf's invasion.\""
     ]
    }
   ],
   "source": [
    "askLLM(\"Where can link find Saria?\")"
   ]
  },
  {
   "cell_type": "code",
   "execution_count": 10,
   "id": "5ec357f9-9076-40e9-a3db-7e4aba667ae3",
   "metadata": {},
   "outputs": [
    {
     "name": "stdout",
     "output_type": "stream",
     "text": [
      "The most difficult part of the game is probably the battle against Ganon. He's a very powerful enemy and requires careful strategy to defeat. It's important to stay to one side initially, then weave back and forth to dodge his attacks while attacking his legs. If you're trying to avoid him altogether, it can be challenging to keep out of his line of sight and shoot him from behind."
     ]
    }
   ],
   "source": [
    "askLLM(\"What's the most difficult part of the game?\")"
   ]
  },
  {
   "cell_type": "code",
   "execution_count": 11,
   "id": "24482ada-51f0-466c-8b0c-26fabde92781",
   "metadata": {},
   "outputs": [
    {
     "name": "stdout",
     "output_type": "stream",
     "text": [
      "The Water Temple is often considered one of the most challenging temples in The Legend of Zelda: Ocarina of Time due to its complex puzzles and the need to manipulate the water level using Zelda's Lullaby. However, this can vary depending on individual players' skill levels and familiarity with the game mechanics. Some players may find other temples or areas more difficult based on their personal experiences."
     ]
    }
   ],
   "source": [
    "askLLM(\"Is the water temple the most difficult part of the game?\")"
   ]
  },
  {
   "cell_type": "code",
   "execution_count": 12,
   "id": "7875a562-c047-49da-8332-ebca685952f3",
   "metadata": {},
   "outputs": [
    {
     "name": "stdout",
     "output_type": "stream",
     "text": [
      "Link does not meet Mario and Peach for the first time in this context. The context only mentions Zelda, Ganondorf, and the Triforce."
     ]
    }
   ],
   "source": [
    "askLLM(\"Where does Link meet Mario and Peach for the first time?\")\n"
   ]
  },
  {
   "cell_type": "code",
   "execution_count": null,
   "id": "00100a7d-ab06-49be-a285-1ccd15ce1e34",
   "metadata": {},
   "outputs": [],
   "source": []
  }
 ],
 "metadata": {
  "kernelspec": {
   "display_name": "Python 3 (ipykernel)",
   "language": "python",
   "name": "python3"
  },
  "language_info": {
   "codemirror_mode": {
    "name": "ipython",
    "version": 3
   },
   "file_extension": ".py",
   "mimetype": "text/x-python",
   "name": "python",
   "nbconvert_exporter": "python",
   "pygments_lexer": "ipython3",
   "version": "3.9.6"
  }
 },
 "nbformat": 4,
 "nbformat_minor": 5
}
