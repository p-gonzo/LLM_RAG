{
 "cells": [
  {
   "cell_type": "code",
   "execution_count": 1,
   "id": "08b2a03c-7838-4304-9e45-4bed89b4af14",
   "metadata": {},
   "outputs": [],
   "source": [
    "# Keep notebook output clean for now\n",
    "import warnings\n",
    "warnings.filterwarnings('ignore')"
   ]
  },
  {
   "cell_type": "code",
   "execution_count": 2,
   "id": "99697014-d7d3-4c04-964c-518aef9b2386",
   "metadata": {
    "scrolled": true
   },
   "outputs": [],
   "source": [
    "from langchain_openai import OpenAI\n",
    "from langchain.chains import VectorDBQA\n",
    "from langchain.callbacks.streaming_stdout import StreamingStdOutCallbackHandler\n",
    "from langchain_community.document_loaders import TextLoader\n",
    "from langchain.text_splitter import RecursiveCharacterTextSplitter\n",
    "from langchain_community.vectorstores import Chroma\n",
    "from langchain_community.embeddings import GPT4AllEmbeddings\n",
    "\n",
    "from pathlib import Path"
   ]
  },
  {
   "cell_type": "code",
   "execution_count": 3,
   "id": "baad46b9-a2eb-4caa-a04d-14f477386398",
   "metadata": {},
   "outputs": [],
   "source": [
    "llm = OpenAI(base_url=\"http://localhost:1234/v1\", api_key=\"not-needed\", temperature=0.7, max_tokens=1000, streaming=True, callbacks=[StreamingStdOutCallbackHandler()])"
   ]
  },
  {
   "cell_type": "code",
   "execution_count": 4,
   "id": "039c8064-3dfe-480b-9bb5-6d645c4d1352",
   "metadata": {},
   "outputs": [],
   "source": [
    "#Use semicolon to suppress additional printed output\n",
    "def askLLM(query):\n",
    "    llm(query);    "
   ]
  },
  {
   "cell_type": "code",
   "execution_count": null,
   "id": "f83d849b-991f-4ce0-a670-5cd63fb37c09",
   "metadata": {},
   "outputs": [],
   "source": [
    "askLLM(\"Where can I find a golden Skulltula?\")"
   ]
  },
  {
   "cell_type": "code",
   "execution_count": null,
   "id": "ff49e753-bc6c-4110-bc3d-42e73c2ea76b",
   "metadata": {},
   "outputs": [],
   "source": [
    "askLLM(\"How does link defeat Gannon?\")"
   ]
  },
  {
   "cell_type": "code",
   "execution_count": null,
   "id": "133c02a5-9b52-49de-a991-1e8ab25d2173",
   "metadata": {},
   "outputs": [],
   "source": [
    "askLLM(\"How long does it take to beat the game?\")"
   ]
  },
  {
   "cell_type": "code",
   "execution_count": null,
   "id": "818ee876-919f-4fc0-aa98-1daa4eebe3e9",
   "metadata": {},
   "outputs": [],
   "source": [
    "askLLM(\"Where can link find Saria?\")"
   ]
  },
  {
   "cell_type": "code",
   "execution_count": 5,
   "id": "5ec357f9-9076-40e9-a3db-7e4aba667ae3",
   "metadata": {},
   "outputs": [
    {
     "name": "stderr",
     "output_type": "stream",
     "text": [
      "/Users/phil/.local/share/virtualenvs/RagChain-Spatmi78/lib/python3.9/site-packages/langchain_core/_api/deprecation.py:117: LangChainDeprecationWarning: The function `__call__` was deprecated in LangChain 0.1.7 and will be removed in 0.2.0. Use invoke instead.\n",
      "  warn_deprecated(\n"
     ]
    },
    {
     "name": "stdout",
     "output_type": "stream",
     "text": [
      "\n",
      "The most difficult part of the game is probably the puzzles. They can be quite challenging, especially early on when you don't have all the tools and abilities at your disposal yet. Some puzzles require a lot of trial and error to figure out the correct solution, which can be frustrating for some players. Additionally, the game has a few puzzles that are intended to be nearly impossible to solve without using save scumming or other cheats, so those can be particularly challenging for players who want to experience the game without any outside help. Overall, though, I think most players will find the puzzles to be an enjoyable challenge rather than an insurmountable obstacle."
     ]
    }
   ],
   "source": [
    "askLLM(\"What's the most difficult part of the game?\")"
   ]
  },
  {
   "cell_type": "code",
   "execution_count": null,
   "id": "24482ada-51f0-466c-8b0c-26fabde92781",
   "metadata": {},
   "outputs": [],
   "source": [
    "askLLM(\"Is the water temple the most difficult part of the game?\")"
   ]
  },
  {
   "cell_type": "code",
   "execution_count": 6,
   "id": "7875a562-c047-49da-8332-ebca685952f3",
   "metadata": {},
   "outputs": [
    {
     "name": "stdout",
     "output_type": "stream",
     "text": [
      "\n",
      "Answer: In The Legend of Zelda: Super Smash Bros. Melee, Link meets Mario and Princess Peach for the first time during a cutscene when they are all kidnapped by Bowser in Princess Peach's Castle. They later team up to fight against Bowser and his minions throughout the game. However, it is important to note that this interaction does not occur in The Legend of Zelda series itself but rather in the crossover game, Super Smash Bros. Melee. In the actual Zelda games, Link and Mario do not meet until The Legend of Zelda: Link's Awakening for the Game Boy, released in 1993."
     ]
    }
   ],
   "source": [
    "askLLM(\"Where does Link meet Mario and Peach for the first time?\")\n"
   ]
  },
  {
   "cell_type": "code",
   "execution_count": null,
   "id": "00100a7d-ab06-49be-a285-1ccd15ce1e34",
   "metadata": {},
   "outputs": [],
   "source": []
  }
 ],
 "metadata": {
  "kernelspec": {
   "display_name": "Python 3 (ipykernel)",
   "language": "python",
   "name": "python3"
  },
  "language_info": {
   "codemirror_mode": {
    "name": "ipython",
    "version": 3
   },
   "file_extension": ".py",
   "mimetype": "text/x-python",
   "name": "python",
   "nbconvert_exporter": "python",
   "pygments_lexer": "ipython3",
   "version": "3.9.6"
  }
 },
 "nbformat": 4,
 "nbformat_minor": 5
}
