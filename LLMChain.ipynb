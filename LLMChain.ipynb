{
 "cells": [
  {
   "cell_type": "code",
   "execution_count": 1,
   "id": "99697014-d7d3-4c04-964c-518aef9b2386",
   "metadata": {},
   "outputs": [
    {
     "name": "stderr",
     "output_type": "stream",
     "text": [
      "/Users/phil/.local/share/virtualenvs/RagChain-Spatmi78/lib/python3.9/site-packages/urllib3/__init__.py:35: NotOpenSSLWarning: urllib3 v2 only supports OpenSSL 1.1.1+, currently the 'ssl' module is compiled with 'LibreSSL 2.8.3'. See: https://github.com/urllib3/urllib3/issues/3020\n",
      "  warnings.warn(\n"
     ]
    }
   ],
   "source": [
    "from langchain_openai import ChatOpenAI\n",
    "from langchain import PromptTemplate\n",
    "from langchain.chains import LLMChain, SimpleSequentialChain\n",
    "from langchain.callbacks.streaming_stdout import StreamingStdOutCallbackHandler\n",
    "from langchain_community.document_loaders import TextLoader\n",
    "from langchain.text_splitter import RecursiveCharacterTextSplitter\n",
    "from langchain_community.vectorstores import Chroma\n",
    "from langchain_community.embeddings import GPT4AllEmbeddings\n",
    "\n",
    "from gpt4all import GPT4All\n",
    "from pathlib import Path"
   ]
  },
  {
   "cell_type": "code",
   "execution_count": 2,
   "id": "baad46b9-a2eb-4caa-a04d-14f477386398",
   "metadata": {},
   "outputs": [],
   "source": [
    "llm = ChatOpenAI(base_url=\"http://localhost:1234/v1\", api_key=\"not-needed\", temperature=0.7, max_tokens=1000, streaming=False, callbacks=[StreamingStdOutCallbackHandler()])"
   ]
  },
  {
   "cell_type": "code",
   "execution_count": 3,
   "id": "70f3dc4b-67f2-442a-a597-9db43ead3fa0",
   "metadata": {},
   "outputs": [],
   "source": [
    "template = \"\"\"\n",
    "You are an expert theoretical physicist  \n",
    "Explain the concept of {concept} in a couple of lines\n",
    "\"\"\"\n",
    "\n",
    "prompt = PromptTemplate(\n",
    "    input_variables=[\"concept\"],\n",
    "    template=template,\n",
    ")"
   ]
  },
  {
   "cell_type": "code",
   "execution_count": 4,
   "id": "6b0f6c7e-5edf-4a4b-b671-0416fd7f763f",
   "metadata": {},
   "outputs": [],
   "source": [
    "chain = LLMChain(llm=llm, prompt=prompt, verbose=True) "
   ]
  },
  {
   "cell_type": "code",
   "execution_count": 5,
   "id": "ed7a10a5-5116-4d4e-a0c7-4f8699ecaa52",
   "metadata": {},
   "outputs": [
    {
     "name": "stderr",
     "output_type": "stream",
     "text": [
      "/Users/phil/.local/share/virtualenvs/RagChain-Spatmi78/lib/python3.9/site-packages/langchain_core/_api/deprecation.py:117: LangChainDeprecationWarning: The function `run` was deprecated in LangChain 0.1.0 and will be removed in 0.2.0. Use invoke instead.\n",
      "  warn_deprecated(\n"
     ]
    },
    {
     "name": "stdout",
     "output_type": "stream",
     "text": [
      "\n",
      "\n",
      "\u001b[1m> Entering new LLMChain chain...\u001b[0m\n",
      "Prompt after formatting:\n",
      "\u001b[32;1m\u001b[1;3m\n",
      "You are an expert theoretical physicist  \n",
      "Explain the concept of entropy in a couple of lines\n",
      "\u001b[0m\n",
      "\n",
      "\u001b[1m> Finished chain.\u001b[0m\n"
     ]
    },
    {
     "data": {
      "text/plain": [
       "'\\nEntropy is a fundamental thermodynamic property that quantifies the degree of disorder or randomness in a system. In classical terms, it measures the number of possible unique arrangements of a given set of particles and their energy states within that system. In quantum mechanics, entropy is related to the uncertainty principle and the distribution of probabilities among quantum states. The second law of thermodynamics states that the total entropy of an isolated system will always increase over time, reflecting the natural tendency towards greater disorder or randomness.'"
      ]
     },
     "execution_count": 5,
     "metadata": {},
     "output_type": "execute_result"
    }
   ],
   "source": [
    "chain.run(\"entropy\")"
   ]
  },
  {
   "cell_type": "code",
   "execution_count": 6,
   "id": "6bd8d13a-4ae1-4ac6-af06-2b3c3de35222",
   "metadata": {},
   "outputs": [],
   "source": [
    "second_prompt = PromptTemplate(\n",
    "    input_variables=[\"concept\"],\n",
    "    template=\"Turn the concept description of {concept} and explain it to me like I'm five in 250 words\",\n",
    ")\n",
    "chain_two = LLMChain(llm=llm, prompt=second_prompt)"
   ]
  },
  {
   "cell_type": "code",
   "execution_count": 7,
   "id": "4ade4c09-494d-4483-99e7-37415ebb29a6",
   "metadata": {},
   "outputs": [
    {
     "name": "stdout",
     "output_type": "stream",
     "text": [
      "\n",
      "\n",
      "\u001b[1m> Entering new SimpleSequentialChain chain...\u001b[0m\n",
      "\n",
      "\n",
      "\u001b[1m> Entering new LLMChain chain...\u001b[0m\n",
      "Prompt after formatting:\n",
      "\u001b[32;1m\u001b[1;3m\n",
      "You are an expert theoretical physicist  \n",
      "Explain the concept of entropy in a couple of lines\n",
      "\u001b[0m\n",
      "\n",
      "\u001b[1m> Finished chain.\u001b[0m\n",
      "\u001b[36;1m\u001b[1;3m\n",
      "Entropy is a thermodynamic property that measures the degree of disorder or randomness in a system. It is often described as the number of ways in which a system's energy can be arranged, with a higher entropy indicating more possible configurations and thus greater disorder. In statistical terms, entropy is proportional to the logarithm of the number of microstates that correspond to a given macrostate. Entropy plays a central role in our understanding of thermodynamic processes, such as heat transfer and the irreversibility of natural phenomena.\u001b[0m\n",
      "\u001b[33;1m\u001b[1;3mImagine you have a big box filled with toys. Each toy has a specific place where it belongs. Now, someone comes along and shakes up the box really hard. Suddenly, all the toys are mixed up and there are many more ways they could be arranged. This new, disorganized state is what we call high entropy.\n",
      "Entropy is like a measure of how messy or disorderly something is. In science, we use this concept to explain things that happen when energy moves around. For example, when you leave a room and the door is closed, the energy in the room eventually spreads out and gets distributed among all the objects in the room. This results in more ways the energy could be arranged, which means higher entropy or more disorder.\n",
      "Think of it like playing with building blocks. When you first start, each block has a specific place. But as you play longer, the blocks get knocked over and spread out, creating many more possibilities for how they can be arranged. This is similar to what happens when energy moves around in a system - it creates more possibilities or more disorder.\n",
      "In simple terms, entropy is a measure of the number of ways energy or particles in a system can be arranged. A system with high entropy has more possible arrangements and is therefore more disordered. Entropy plays an important role in understanding how energy behaves and changes in the natural world.\u001b[0m\n",
      "\n",
      "\u001b[1m> Finished chain.\u001b[0m\n"
     ]
    },
    {
     "data": {
      "text/plain": [
       "'Imagine you have a big box filled with toys. Each toy has a specific place where it belongs. Now, someone comes along and shakes up the box really hard. Suddenly, all the toys are mixed up and there are many more ways they could be arranged. This new, disorganized state is what we call high entropy.\\nEntropy is like a measure of how messy or disorderly something is. In science, we use this concept to explain things that happen when energy moves around. For example, when you leave a room and the door is closed, the energy in the room eventually spreads out and gets distributed among all the objects in the room. This results in more ways the energy could be arranged, which means higher entropy or more disorder.\\nThink of it like playing with building blocks. When you first start, each block has a specific place. But as you play longer, the blocks get knocked over and spread out, creating many more possibilities for how they can be arranged. This is similar to what happens when energy moves around in a system - it creates more possibilities or more disorder.\\nIn simple terms, entropy is a measure of the number of ways energy or particles in a system can be arranged. A system with high entropy has more possible arrangements and is therefore more disordered. Entropy plays an important role in understanding how energy behaves and changes in the natural world.'"
      ]
     },
     "execution_count": 7,
     "metadata": {},
     "output_type": "execute_result"
    }
   ],
   "source": [
    "overall_chain = SimpleSequentialChain(chains=[chain, chain_two], verbose=True)\n",
    "overall_chain.run(\"entropy\")"
   ]
  },
  {
   "cell_type": "code",
   "execution_count": null,
   "id": "ff49e753-bc6c-4110-bc3d-42e73c2ea76b",
   "metadata": {},
   "outputs": [],
   "source": []
  }
 ],
 "metadata": {
  "kernelspec": {
   "display_name": "Python 3 (ipykernel)",
   "language": "python",
   "name": "python3"
  },
  "language_info": {
   "codemirror_mode": {
    "name": "ipython",
    "version": 3
   },
   "file_extension": ".py",
   "mimetype": "text/x-python",
   "name": "python",
   "nbconvert_exporter": "python",
   "pygments_lexer": "ipython3",
   "version": "3.9.6"
  }
 },
 "nbformat": 4,
 "nbformat_minor": 5
}
