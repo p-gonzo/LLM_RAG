{
 "cells": [
  {
   "cell_type": "code",
   "execution_count": 2,
   "id": "08b2a03c-7838-4304-9e45-4bed89b4af14",
   "metadata": {},
   "outputs": [],
   "source": [
    "# Keep notebook output clean for now\n",
    "import warnings\n",
    "warnings.filterwarnings('ignore')"
   ]
  },
  {
   "cell_type": "code",
   "execution_count": 3,
   "id": "99697014-d7d3-4c04-964c-518aef9b2386",
   "metadata": {
    "scrolled": true
   },
   "outputs": [],
   "source": [
    "from langchain_openai import ChatOpenAI\n",
    "from langchain.chains import VectorDBQA\n",
    "from langchain.callbacks.streaming_stdout import StreamingStdOutCallbackHandler\n",
    "from langchain_community.document_loaders import TextLoader\n",
    "from langchain.text_splitter import RecursiveCharacterTextSplitter\n",
    "from langchain_community.vectorstores import Chroma\n",
    "from langchain_community.embeddings import GPT4AllEmbeddings\n",
    "\n",
    "from pathlib import Path"
   ]
  },
  {
   "cell_type": "code",
   "execution_count": 4,
   "id": "3ba2e237-dc6c-4eec-a74f-59c089fa969b",
   "metadata": {},
   "outputs": [
    {
     "name": "stdout",
     "output_type": "stream",
     "text": [
      "bert_load_from_file: gguf version     = 2\n",
      "bert_load_from_file: gguf alignment   = 32\n",
      "bert_load_from_file: gguf data offset = 695552\n",
      "bert_load_from_file: model name           = BERT\n",
      "bert_load_from_file: model architecture   = bert\n",
      "bert_load_from_file: model file type      = 1\n",
      "bert_load_from_file: bert tokenizer vocab = 30522\n"
     ]
    }
   ],
   "source": [
    "loader = TextLoader(Path(\"Ocarina.txt\").absolute(), autodetect_encoding=True)\n",
    "data = loader.load()\n",
    "data[0].metadata = {'keywords': 'Ocarina'}\n",
    "text_splitter = RecursiveCharacterTextSplitter(chunk_size=1000, chunk_overlap=200)\n",
    "splits = text_splitter.split_documents(data)\n",
    "embeddings = GPT4AllEmbeddings()\n",
    "vectordb = Chroma.from_documents(splits, embeddings)\n",
    "retriever = vectordb.as_retriever()"
   ]
  },
  {
   "cell_type": "code",
   "execution_count": 5,
   "id": "baad46b9-a2eb-4caa-a04d-14f477386398",
   "metadata": {},
   "outputs": [],
   "source": [
    "llm = ChatOpenAI(base_url=\"http://localhost:1234/v1\", api_key=\"not-needed\", temperature=0.7, max_tokens=1000, streaming=True, callbacks=[StreamingStdOutCallbackHandler()])\n",
    "qa = VectorDBQA.from_chain_type(llm=llm, chain_type=\"stuff\", vectorstore=vectordb)"
   ]
  },
  {
   "cell_type": "code",
   "execution_count": 6,
   "id": "039c8064-3dfe-480b-9bb5-6d645c4d1352",
   "metadata": {},
   "outputs": [],
   "source": [
    "#Use semicolon to suppress additional printed output\n",
    "def askLLM(query):\n",
    "    print(\"Pulled Context:\\n\")\n",
    "    for doc in retriever.get_relevant_documents(query):\n",
    "        print(doc.page_content)\n",
    "    print(\"\\n --- --- ---\\n\")\n",
    "    qa.run(query);    "
   ]
  },
  {
   "cell_type": "code",
   "execution_count": null,
   "id": "f83d849b-991f-4ce0-a670-5cd63fb37c09",
   "metadata": {},
   "outputs": [],
   "source": [
    "askLLM(\"Where can I find a golden Skulltula?\")"
   ]
  },
  {
   "cell_type": "code",
   "execution_count": null,
   "id": "ff49e753-bc6c-4110-bc3d-42e73c2ea76b",
   "metadata": {},
   "outputs": [],
   "source": [
    "askLLM(\"How does link defeat Gannon?\")"
   ]
  },
  {
   "cell_type": "code",
   "execution_count": null,
   "id": "133c02a5-9b52-49de-a991-1e8ab25d2173",
   "metadata": {},
   "outputs": [],
   "source": [
    "askLLM(\"How long does it take to beat the game?\")"
   ]
  },
  {
   "cell_type": "code",
   "execution_count": null,
   "id": "818ee876-919f-4fc0-aa98-1daa4eebe3e9",
   "metadata": {},
   "outputs": [],
   "source": [
    "askLLM(\"Where can link find Saria?\")"
   ]
  },
  {
   "cell_type": "code",
   "execution_count": null,
   "id": "5ec357f9-9076-40e9-a3db-7e4aba667ae3",
   "metadata": {},
   "outputs": [],
   "source": [
    "askLLM(\"What's the most difficult part of the game?\")"
   ]
  },
  {
   "cell_type": "code",
   "execution_count": null,
   "id": "24482ada-51f0-466c-8b0c-26fabde92781",
   "metadata": {},
   "outputs": [],
   "source": [
    "askLLM(\"Is the water temple the most difficult part of the game?\")"
   ]
  },
  {
   "cell_type": "code",
   "execution_count": 7,
   "id": "7875a562-c047-49da-8332-ebca685952f3",
   "metadata": {},
   "outputs": [
    {
     "name": "stdout",
     "output_type": "stream",
     "text": [
      "Pulled Context:\n",
      "\n",
      "Link hurried to the Temple of Time to the east of the busy shoppers. The\n",
      "three Spiritual Stones took their places, prompting Link to play the Song of\n",
      "Time in front of the door. The chamber beyond housed the Master Sword. Link\n",
      "entered the sacred chamber and pulled the sword from it's pedestal.\n",
      "Link never knew where he came from. He had lived in the Kokiri Forest his\n",
      "whole life, but everyone treated him differently, everyone except for Saria.\n",
      "Mido, the self-proclaimed leader of the Kokiri, always enjoyed bullying him,\n",
      "but who ever put Mido in charge? The Great Deku Tree, the guardian of the for-\n",
      "est, had never put Mido in charge. It wasn't fair. To make things worse, Link\n",
      "had never received a guardian fairy. All the other Kokiri Children had a fairy\n",
      "of their own to guide and protect them, yet Link had always been the boy with-\n",
      "out a fairy.\n",
      "  Little did Link realize that his destiny would lead him out of the forest one\n",
      "day. He didn't realize that the dreams he had begun to have weren't just ran-\n",
      "domly made by his imagination and his courageous heart.\n",
      "  Rain pounded onto his face as he looked at the smooth stone cliff. In the\n",
      "middle of it, a great wooden door opened down to make a bridge. It seemed to\n",
      "be held up by shiny silver rope, which was made shinier by the brilliant\n",
      "searched the horizon carefully before turning and asking Link where Zelda went.\n",
      "Link bravely remained silent as the man laughed a deep laugh. Link armed him-\n",
      "self, but Ganondorf, the evil King of Thieves knocked him down with a simple\n",
      "spell. Ganondorf took off into the night as Link slowly got to his feet.\n",
      "  Once confident that Ganondorf was gone, Link remembered the small blue object\n",
      "that Zelda had desperately thrown into the moat. He retrieved it and returned\n",
      "to the surface to admire the glowing blue light of the Ocarina of Time. Sudden-\n",
      "ly, an image of Princess Zelda filled Link's mind. She taught Link the Song of\n",
      "Time, the song that would open the Door of Time and give Link access to the\n",
      "Master Sword, the Sacred Realm, and most important of all, the Triforce....\n",
      "  Link hurried to the Temple of Time to the east of the busy shoppers. The\n",
      "three Spiritual Stones took their places, prompting Link to play the Song of\n",
      "ing strange clothes colored with white and black. As they faded into the dis-\n",
      "tance, Link spun around to face an enormous black figure on another four legged\n",
      "creature. He gazed into the fiery red eyes of both beasts and shuddered.\n",
      "  Link woke with a start. He was still in his bed in his tree. Everything was\n",
      "still dark. He went back to sleep, but the same dream occurred several times\n",
      "over the next few days.\n",
      "\n",
      " --- --- ---\n",
      "\n"
     ]
    },
    {
     "name": "stderr",
     "output_type": "stream",
     "text": [
      "/Users/phil/.local/share/virtualenvs/RagChain-Spatmi78/lib/python3.9/site-packages/langchain_core/_api/deprecation.py:117: LangChainDeprecationWarning: The function `run` was deprecated in LangChain 0.1.0 and will be removed in 0.2.0. Use invoke instead.\n",
      "  warn_deprecated(\n"
     ]
    },
    {
     "name": "stdout",
     "output_type": "stream",
     "text": [
      "In the provided context, there is no information about Link meeting Mario and Peach for the first time."
     ]
    }
   ],
   "source": [
    "askLLM(\"Where does Link meet Mario and Peach for the first time?\")"
   ]
  },
  {
   "cell_type": "code",
   "execution_count": null,
   "id": "bb516223-ddd8-4f6d-a612-42225063c311",
   "metadata": {},
   "outputs": [],
   "source": []
  }
 ],
 "metadata": {
  "kernelspec": {
   "display_name": "Python 3 (ipykernel)",
   "language": "python",
   "name": "python3"
  },
  "language_info": {
   "codemirror_mode": {
    "name": "ipython",
    "version": 3
   },
   "file_extension": ".py",
   "mimetype": "text/x-python",
   "name": "python",
   "nbconvert_exporter": "python",
   "pygments_lexer": "ipython3",
   "version": "3.9.6"
  }
 },
 "nbformat": 4,
 "nbformat_minor": 5
}
