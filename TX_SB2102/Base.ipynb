{
 "cells": [
  {
   "cell_type": "code",
   "execution_count": 1,
   "id": "08b2a03c-7838-4304-9e45-4bed89b4af14",
   "metadata": {},
   "outputs": [],
   "source": [
    "# Keep notebook output clean for now\n",
    "import warnings\n",
    "warnings.filterwarnings('ignore')"
   ]
  },
  {
   "cell_type": "code",
   "execution_count": 2,
   "id": "99697014-d7d3-4c04-964c-518aef9b2386",
   "metadata": {
    "scrolled": true
   },
   "outputs": [],
   "source": [
    "from langchain_openai import OpenAI\n",
    "from langchain.chains import VectorDBQA\n",
    "from langchain.callbacks.streaming_stdout import StreamingStdOutCallbackHandler\n",
    "from langchain_community.document_loaders import TextLoader\n",
    "from langchain.text_splitter import RecursiveCharacterTextSplitter\n",
    "from langchain_community.vectorstores import Chroma\n",
    "from langchain_community.embeddings import GPT4AllEmbeddings\n",
    "\n",
    "from pathlib import Path"
   ]
  },
  {
   "cell_type": "code",
   "execution_count": 3,
   "id": "baad46b9-a2eb-4caa-a04d-14f477386398",
   "metadata": {},
   "outputs": [],
   "source": [
    "llm = OpenAI(base_url=\"http://localhost:1234/v1\", api_key=\"not-needed\", temperature=0.7, max_tokens=1000, streaming=True, callbacks=[StreamingStdOutCallbackHandler()])"
   ]
  },
  {
   "cell_type": "code",
   "execution_count": 4,
   "id": "039c8064-3dfe-480b-9bb5-6d645c4d1352",
   "metadata": {},
   "outputs": [],
   "source": [
    "#Use semicolon to suppress additional printed output\n",
    "def askLLM(query):\n",
    "    llm(query);    "
   ]
  },
  {
   "cell_type": "code",
   "execution_count": 5,
   "id": "7875a562-c047-49da-8332-ebca685952f3",
   "metadata": {},
   "outputs": [
    {
     "name": "stderr",
     "output_type": "stream",
     "text": [
      "/Users/phil/.local/share/virtualenvs/LLM_RAG-sfbpCevB/lib/python3.9/site-packages/langchain_core/_api/deprecation.py:117: LangChainDeprecationWarning: The function `__call__` was deprecated in LangChain 0.1.7 and will be removed in 0.2.0. Use invoke instead.\n",
      "  warn_deprecated(\n"
     ]
    },
    {
     "name": "stdout",
     "output_type": "stream",
     "text": [
      "\n",
      "SB 2102 was a bill introduced in the Texas Senate during the 85th legislative session. The primary purpose of the bill was to ban abortions after six weeks of pregnancy, which is before most women even know they are pregnant. The bill also included other provisions related to abortion regulations and civil penalties for violations.\n",
      "\n",
      "Some specific provisions of the bill include:\n",
      "\n",
      "1. Banning abortions once a fetal heartbeat can be detected, typically around six weeks gestation.\n",
      "2. Allowing private citizens to sue anyone who performs or assists in an abortion after six weeks, with damages of at least $10,000.\n",
      "3. Exempting medical emergencies from the ban.\n",
      "4. Allowing for civil and criminal penalties for violations of the ban.\n",
      "5. Requiring that fetal remains be cremated or buried.\n",
      "6. Providing funding for alternative pregnancy services and counseling.\n",
      "7. Prohibiting state or local governments from using taxpayer funds to support abortion providers or facilities.\n",
      "8. Allowing the Texas attorney general to enforce the law against anyone who performs or assists in an abortion after six weeks, regardless of where the abortion is performed.\n",
      "9. Creating a new section of the Texas Health and Safety Code related to fetal remains and the enforcement of the ban.\n",
      "10. Providing for the repeal of certain existing provisions related to abortion regulations once the fetal heartbeat law takes effect.\n",
      "\n",
      "The bill passed in the Senate but was not taken up for a vote in the House before the end of the legislative session. However, it is expected that similar legislation will be introduced again in future sessions."
     ]
    }
   ],
   "source": [
    "askLLM(\"What was in TX SB 2102?\")"
   ]
  },
  {
   "cell_type": "code",
   "execution_count": null,
   "id": "00100a7d-ab06-49be-a285-1ccd15ce1e34",
   "metadata": {},
   "outputs": [],
   "source": []
  }
 ],
 "metadata": {
  "kernelspec": {
   "display_name": "Python 3 (ipykernel)",
   "language": "python",
   "name": "python3"
  },
  "language_info": {
   "codemirror_mode": {
    "name": "ipython",
    "version": 3
   },
   "file_extension": ".py",
   "mimetype": "text/x-python",
   "name": "python",
   "nbconvert_exporter": "python",
   "pygments_lexer": "ipython3",
   "version": "3.9.6"
  }
 },
 "nbformat": 4,
 "nbformat_minor": 5
}
